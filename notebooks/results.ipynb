{
 "cells": [
  {
   "cell_type": "markdown",
   "metadata": {},
   "source": [
    "# Compare results from the models"
   ]
  },
  {
   "cell_type": "code",
   "execution_count": 1,
   "metadata": {},
   "outputs": [],
   "source": [
    "import json\n",
    "import yaml\n",
    "import pandas as pd"
   ]
  },
  {
   "cell_type": "code",
   "execution_count": 2,
   "metadata": {},
   "outputs": [],
   "source": [
    "with open('params.yaml', \"r\") as f:\n",
    "    params = yaml.safe_load(f)"
   ]
  },
  {
   "cell_type": "code",
   "execution_count": 3,
   "metadata": {},
   "outputs": [],
   "source": [
    "models = [params[f'model-{i}']['model'] for i in range(1,3)]\n",
    "metrics = [f\"training/{model}/metrics.json\" for model in models]"
   ]
  },
  {
   "cell_type": "code",
   "execution_count": 4,
   "metadata": {},
   "outputs": [],
   "source": [
    "models_metrics = []\n",
    "for metric_path in metrics:\n",
    "    with open(metric_path, \"r\") as f:\n",
    "        models_metrics.append(json.load(f))\n",
    "\n",
    "\n"
   ]
  },
  {
   "cell_type": "code",
   "execution_count": 5,
   "metadata": {},
   "outputs": [
    {
     "data": {
      "text/html": [
       "<div>\n",
       "<style scoped>\n",
       "    .dataframe tbody tr th:only-of-type {\n",
       "        vertical-align: middle;\n",
       "    }\n",
       "\n",
       "    .dataframe tbody tr th {\n",
       "        vertical-align: top;\n",
       "    }\n",
       "\n",
       "    .dataframe thead th {\n",
       "        text-align: right;\n",
       "    }\n",
       "</style>\n",
       "<table border=\"1\" class=\"dataframe\">\n",
       "  <thead>\n",
       "    <tr style=\"text-align: right;\">\n",
       "      <th></th>\n",
       "      <th>model-1</th>\n",
       "      <th>model-2</th>\n",
       "    </tr>\n",
       "  </thead>\n",
       "  <tbody>\n",
       "    <tr>\n",
       "      <th>cats_score</th>\n",
       "      <td>0.500</td>\n",
       "      <td>0.537</td>\n",
       "    </tr>\n",
       "    <tr>\n",
       "      <th>cats_score_desc</th>\n",
       "      <td>macro AUC</td>\n",
       "      <td>macro AUC</td>\n",
       "    </tr>\n",
       "    <tr>\n",
       "      <th>cats_macro_auc</th>\n",
       "      <td>0.500</td>\n",
       "      <td>0.537</td>\n",
       "    </tr>\n",
       "    <tr>\n",
       "      <th>speed</th>\n",
       "      <td>43,466.803</td>\n",
       "      <td>43,250.945</td>\n",
       "    </tr>\n",
       "  </tbody>\n",
       "</table>\n",
       "</div>"
      ],
      "text/plain": [
       "                   model-1    model-2\n",
       "cats_score           0.500      0.537\n",
       "cats_score_desc  macro AUC  macro AUC\n",
       "cats_macro_auc       0.500      0.537\n",
       "speed           43,466.803 43,250.945"
      ]
     },
     "execution_count": 5,
     "metadata": {},
     "output_type": "execute_result"
    }
   ],
   "source": [
    "pd.options.display.float_format = '{:,.3f}'.format\n",
    "\n",
    "metrics_df = pd.DataFrame(models_metrics, index=['model-1', 'model-2'])\n",
    "# cats_columns = [col for col in metrics_df.columns if 'cats' in col][:6]\n",
    "metrics_df = metrics_df[['cats_score', 'cats_score_desc', 'cats_macro_auc', 'speed']].transpose()\n",
    "metrics_df"
   ]
  }
 ],
 "metadata": {
  "kernelspec": {
   "display_name": "Python 3.8.10 ('dvc-vscode-hvqYpgl7-py3.8')",
   "language": "python",
   "name": "python3"
  },
  "language_info": {
   "codemirror_mode": {
    "name": "ipython",
    "version": 3
   },
   "file_extension": ".py",
   "mimetype": "text/x-python",
   "name": "python",
   "nbconvert_exporter": "python",
   "pygments_lexer": "ipython3",
   "version": "3.8.10"
  },
  "orig_nbformat": 4,
  "vscode": {
   "interpreter": {
    "hash": "a0f1e594b44784709fbca296ff1d12e5b93f573f8698a6c12519ae15d961ae31"
   }
  }
 },
 "nbformat": 4,
 "nbformat_minor": 2
}
